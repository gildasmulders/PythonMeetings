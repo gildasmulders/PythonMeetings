{
 "cells": [
  {
   "cell_type": "code",
   "execution_count": 1,
   "id": "c0eaa4ff-7cde-49e0-8e6a-1d808a290e18",
   "metadata": {},
   "outputs": [],
   "source": [
    "import pandas as pd"
   ]
  },
  {
   "cell_type": "code",
   "execution_count": 18,
   "id": "5e46e995-c7bd-4407-9554-871e5458682f",
   "metadata": {},
   "outputs": [],
   "source": [
    "df = pd.read_csv(\"../data/materials.csv\", sep=\";\")\n",
    "list_of_dicts = df.to_dict(orient=\"records\")"
   ]
  },
  {
   "cell_type": "markdown",
   "id": "720d5a45-359f-4a16-9841-34ebd81768ee",
   "metadata": {},
   "source": [
    "- Initialize a list  => new_list = []\n",
    "- loop through list_of_dicts\n",
    "    - check the object's category field\n",
    "    - if the category is \"Minerals\" => add it to new_list"
   ]
  },
  {
   "cell_type": "code",
   "execution_count": 20,
   "id": "7484f08f-7cb0-466d-96bb-631e4f73a89a",
   "metadata": {},
   "outputs": [],
   "source": []
  },
  {
   "cell_type": "code",
   "execution_count": 23,
   "id": "a6cd9618-e3e9-4f7b-bee8-67945ff94e20",
   "metadata": {},
   "outputs": [
    {
     "data": {
      "text/plain": [
       "'this is test2'"
      ]
     },
     "execution_count": 23,
     "metadata": {},
     "output_type": "execute_result"
    }
   ],
   "source": []
  }
 ],
 "metadata": {
  "kernelspec": {
   "display_name": "Python 3 (ipykernel)",
   "language": "python",
   "name": "python3"
  },
  "language_info": {
   "codemirror_mode": {
    "name": "ipython",
    "version": 3
   },
   "file_extension": ".py",
   "mimetype": "text/x-python",
   "name": "python",
   "nbconvert_exporter": "python",
   "pygments_lexer": "ipython3",
   "version": "3.9.13"
  }
 },
 "nbformat": 4,
 "nbformat_minor": 5
}
