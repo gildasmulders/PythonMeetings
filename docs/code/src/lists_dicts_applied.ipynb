{
 "cells": [
  {
   "cell_type": "code",
   "execution_count": 1,
   "id": "fefcd5d1-3cf5-4c65-a40a-d5347ce05ea5",
   "metadata": {},
   "outputs": [],
   "source": [
    "import pandas as pd"
   ]
  },
  {
   "cell_type": "code",
   "execution_count": 2,
   "id": "b539727a-d885-43ae-8189-fb26b09922d4",
   "metadata": {},
   "outputs": [],
   "source": [
    "df = pd.read_csv(\"../data/materials.csv\", sep=\";\")\n",
    "materials = df.to_dict(orient=\"records\")"
   ]
  },
  {
   "cell_type": "markdown",
   "id": "aae28874-fa60-4d1a-a827-aac6714b2e08",
   "metadata": {},
   "source": [
    "### Exercise 1\n",
    "Go through the materials list of dictionaries and print the sum of embodied energies of all materials of the 'Minerals' category\n",
    "\n",
    "##### Reminder: previous session's algorithm\n",
    "- Initialize a list (to hold your output)\n",
    "- loop through materials\n",
    "    - check the object's category field\n",
    "    - if the category is \"Minerals\" => add it to new_list (update the output)\n",
    "    \n",
    "In this case, we're not trying to create a list, our output should instead just be a number equal to the sum of embodied energies of all materials that enter the if statement."
   ]
  },
  {
   "cell_type": "markdown",
   "id": "9a8916ef-3380-442b-8694-3ad1013d1c2c",
   "metadata": {},
   "source": [
    "##### Algorithm for summing on the fly\n",
    "- Initialize a variable y equal to 0\n",
    "- loop through materials\n",
    "    - check the material dictionary's category field \n",
    "    - if the category is 'Minerals' \n",
    "        - get the materials's embodied energy\n",
    "        - add the embodied energy to y"
   ]
  },
  {
   "cell_type": "code",
   "execution_count": 3,
   "id": "8fd55a24-98b5-4cb1-a4db-5cdb6d941ef2",
   "metadata": {},
   "outputs": [
    {
     "name": "stdout",
     "output_type": "stream",
     "text": [
      "output_on_the_fly = 69.13592424619038\n",
      "output_from_list = 69.13592424619038\n"
     ]
    }
   ],
   "source": [
    "## SUMMING ON THE FLY\n",
    "output_on_the_fly = 0  # initialize the sum of embodied energies to 0\n",
    "for material in materials: #  go through each material\n",
    "    if material['category'] == 'Minerals':  # check the category of each material\n",
    "        embodied_energy = material['embodied_energy']  #  retrieve the material's embodied energy\n",
    "        output_on_the_fly +=  embodied_energy  #  if it's a Mineral, add it's embodied energy coefficient to the sum \n",
    "        #  1st iteration: this expression could look like:  output_on_the_fly = 0 + 3.23\n",
    "        #  2nd iteration: this expression could look like:  output_on_the_fly = 3.23 (previous value) + 2.21\n",
    "        #  ...\n",
    "print(f\"output_on_the_fly = {output_on_the_fly}\") \n",
    "#  Once the loop is finished, we should have added the values of the embodied energy coefficient of all mineral materials\n",
    "\n",
    "## OR\n",
    "\n",
    "## USING A LIST\n",
    "mineral_materials = [] # initialize an empty list\n",
    "for material in materials: #  go through each material   \n",
    "    if material['category'] == 'Minerals':  # check the category of each material\n",
    "        mineral_materials.append(material['embodied_energy'])  #  if it's a Mineral, add it's embodied energy coefficient to the list\n",
    "output_from_list = sum(mineral_materials) # Sum all the embodied energy coefficients using builtin function 'sum'\n",
    "print(f\"output_from_list = {output_from_list}\")"
   ]
  },
  {
   "cell_type": "markdown",
   "id": "ab7d59a1-109d-4e5c-a102-d56ab686ff22",
   "metadata": {},
   "source": [
    "### Exercise 2\n",
    "Stepping it up a little, for this second exercise, we are interested not only in the sum of embodied energy of Minerals, but in the sum of embodied energy of each category:\n",
    "Your output should consist in a dictionary looking like this:\n",
    "\n",
    "\n",
    "{'Minerals': 13900, 'Timber': 25788, ... } "
   ]
  },
  {
   "cell_type": "markdown",
   "id": "2df0386e-b00f-4dca-9cbc-aa14f800276d",
   "metadata": {},
   "source": [
    "#### FIRST, INEFFICIENT WAY\n",
    "- initialize a dictionary z whose keys will be material categories and values will be 0 \n",
    "- for each category x in all the existing categories\n",
    "\n",
    "    - *Run previous algorithm while replacing 'Minerals' with the value of x:*\n",
    "    - Initialize a variable y equal to 0\n",
    "    - loop through materials\n",
    "        - check the material dictionary's category field \n",
    "        - if the category is equal to x \n",
    "            - get the materials's embodied energy\n",
    "            - add the embodied energy to y\n",
    "    - set the value of the key x of the dictionary z to y -> z\\[x\\] = y\n",
    "            \n",
    "this first requires us to have a list of all the existing categories, which we can get this way:"
   ]
  },
  {
   "cell_type": "code",
   "execution_count": 4,
   "id": "53fda802-845a-48b7-a30e-b32c135588b2",
   "metadata": {},
   "outputs": [
    {
     "data": {
      "text/plain": [
       "{'Ferrous metals',\n",
       " 'Minerals',\n",
       " 'Natural fibres',\n",
       " 'Non ferrous metals',\n",
       " 'Other chemicals',\n",
       " 'Polymers',\n",
       " 'Timber'}"
      ]
     },
     "execution_count": 4,
     "metadata": {},
     "output_type": "execute_result"
    }
   ],
   "source": [
    "categories = list(set(mat['category'] for mat in materials))\n",
    "\n",
    "## WHICH IS EQUIVALENT TO:\n",
    "\n",
    "categories = set()  # A set is like a list, only it cannot have two elements with the same value.\n",
    "for item in materials:\n",
    "    categories.add(item['category'])\n",
    "categories"
   ]
  },
  {
   "cell_type": "markdown",
   "id": "376622ea-a14f-448a-96f5-4fb16183beee",
   "metadata": {},
   "source": [
    "From that, we can create our initial dictionary 'z' like this:"
   ]
  },
  {
   "cell_type": "code",
   "execution_count": 5,
   "id": "ab102093-e5b5-4cd5-835c-5d9214973dad",
   "metadata": {},
   "outputs": [
    {
     "data": {
      "text/plain": [
       "{'Non ferrous metals': 0,\n",
       " 'Natural fibres': 0,\n",
       " 'Minerals': 0,\n",
       " 'Other chemicals': 0,\n",
       " 'Polymers': 0,\n",
       " 'Ferrous metals': 0,\n",
       " 'Timber': 0}"
      ]
     },
     "execution_count": 5,
     "metadata": {},
     "output_type": "execute_result"
    }
   ],
   "source": [
    "my_output_dict = {category: 0 for category in categories}\n",
    "\n",
    "## WHICH IS EQUIVALENT TO:\n",
    "\n",
    "my_output_dict = {}\n",
    "for category in categories:\n",
    "    my_output_dict[category] = 0\n",
    "my_output_dict"
   ]
  },
  {
   "cell_type": "markdown",
   "id": "0400df6e-075c-4cfd-b712-8fad3bef5573",
   "metadata": {},
   "source": [
    "This is then how the first algorithm would look like:"
   ]
  },
  {
   "cell_type": "code",
   "execution_count": 6,
   "id": "90912770-b157-4804-a141-f9c7500afe90",
   "metadata": {},
   "outputs": [
    {
     "data": {
      "text/plain": [
       "{'Non ferrous metals': 4.062554805334697,\n",
       " 'Natural fibres': 1.2769074529365696,\n",
       " 'Minerals': 69.13592424619038,\n",
       " 'Other chemicals': 0.34575541662011133,\n",
       " 'Polymers': 17.85852525272205,\n",
       " 'Ferrous metals': 26.138118891679333,\n",
       " 'Timber': 331.9579418760087}"
      ]
     },
     "execution_count": 6,
     "metadata": {},
     "output_type": "execute_result"
    }
   ],
   "source": [
    "for category in categories: \n",
    "    #  1st iteration: category is equal to 'Minerals'\n",
    "     #  If we substitute category for 'Minerals' in the next paragraph , this code is exactly the same as exercise 1\n",
    "        \n",
    "    output_on_the_fly = 0 \n",
    "    for material in materials:       \n",
    "        if material['category'] == category:  \n",
    "            embodied_energy = material['embodied_energy'] \n",
    "            output_on_the_fly +=  embodied_energy\n",
    "            \n",
    "    # Each time we do exercise 1's algo for a category, we store the final value in the 'category' key of our dictionary\n",
    "    my_output_dict[category] = output_on_the_fly  \n",
    "\n",
    "my_output_dict"
   ]
  },
  {
   "cell_type": "markdown",
   "id": "c590aa50-7c21-4c2c-ba27-af09abf20f85",
   "metadata": {},
   "source": [
    "Unfortunately, this is not very efficient, because we are going through the 131 materials again for each different category, so 7\\*131 iterations. Here is a better way to do it:\n",
    "\n",
    "- initialize a dictionary z whose keys will be material categories and values will be 0 \n",
    "- loop through materials\n",
    "    - get the material's category and store it in a variable x\n",
    "    - get the materials's embodied energy y\n",
    "    - add the value of this material's embodied energy to the sum of embodied energies for this material's category\n",
    "        -> z\\[x\\] += y  "
   ]
  },
  {
   "cell_type": "code",
   "execution_count": 7,
   "id": "457c0e42-adc0-4785-a95a-00c9a910295f",
   "metadata": {},
   "outputs": [
    {
     "data": {
      "text/plain": [
       "{'Non ferrous metals': 4.062554805334697,\n",
       " 'Natural fibres': 1.2769074529365696,\n",
       " 'Minerals': 69.13592424619038,\n",
       " 'Other chemicals': 0.34575541662011133,\n",
       " 'Polymers': 17.85852525272205,\n",
       " 'Ferrous metals': 26.138118891679333,\n",
       " 'Timber': 331.9579418760087}"
      ]
     },
     "execution_count": 7,
     "metadata": {},
     "output_type": "execute_result"
    }
   ],
   "source": [
    "my_output_dict = {category: 0 for category in categories}\n",
    "\n",
    "for material in materials:\n",
    "    material_category = material['category']\n",
    "    embodied_energy = material['embodied_energy']\n",
    "    my_output_dict[material_category] += embodied_energy\n",
    "    \n",
    "my_output_dict"
   ]
  },
  {
   "cell_type": "markdown",
   "id": "94838421-87b6-4a3a-86f9-bd4bc7b120d8",
   "metadata": {},
   "source": [
    "## Going further: How would we do this in pandas?"
   ]
  },
  {
   "cell_type": "code",
   "execution_count": 8,
   "id": "f9cdaba6-d1f3-439e-8a6d-aa692cfe2ac7",
   "metadata": {},
   "outputs": [
    {
     "name": "stdout",
     "output_type": "stream",
     "text": [
      "69.13592424619038\n",
      "69.13592424619038\n"
     ]
    }
   ],
   "source": [
    "# exercise 1:\n",
    "ex1_output = sum(df[df[\"category\"] == 'Minerals']['embodied_energy'])\n",
    "print(ex1_output)\n",
    "\n",
    "# which can be decomposed as:\n",
    "mask = df[\"category\"] == 'Minerals' #  create a mask/filter of true/false value identifying which rows are Minerals\n",
    "mineral_materials = df[mask]  # apply mask/filter to get a dataframe with only minerals\n",
    "mineral_materials_embodied_energies = mineral_materials['embodied_energy'] # get only the 'embodied energy' column\n",
    "ex1_output = sum(mineral_materials_embodied_energies) # sum all values\n",
    "print(ex1_output)"
   ]
  },
  {
   "cell_type": "code",
   "execution_count": 9,
   "id": "00151804-2b44-464c-8038-e551baf04bf9",
   "metadata": {},
   "outputs": [
    {
     "name": "stdout",
     "output_type": "stream",
     "text": [
      "{'Ferrous metals': 26.138118891679333, 'Minerals': 69.13592424619036, 'Natural fibres': 1.2769074529365696, 'Non ferrous metals': 4.062554805334696, 'Other chemicals': 0.34575541662011133, 'Polymers': 17.85852525272205, 'Timber': 331.9579418760087}\n",
      "{'Ferrous metals': 26.138118891679333, 'Minerals': 69.13592424619036, 'Natural fibres': 1.2769074529365696, 'Non ferrous metals': 4.062554805334696, 'Other chemicals': 0.34575541662011133, 'Polymers': 17.85852525272205, 'Timber': 331.9579418760087}\n"
     ]
    }
   ],
   "source": [
    "# exercise 2:\n",
    "ex2_output = df.groupby('category')['embodied_energy'].sum().to_dict()\n",
    "print(ex2_output)\n",
    "\n",
    "# which can be decomposed as:\n",
    "df_by_category = df.groupby('category') # group materials by category\n",
    "df_by_category_embodied_energies = df_by_category['embodied_energy']  # only get the 'embodied_energy' column\n",
    "summed_embodied_energies_by_group = df_by_category_embodied_energies.sum()  #  specify how you should regroup values of the same group\n",
    "result_as_dict = summed_embodied_energies_by_group.to_dict() # turn the dataframe into a dictionary\n",
    "print(result_as_dict)"
   ]
  }
 ],
 "metadata": {
  "kernelspec": {
   "display_name": "Python 3 (ipykernel)",
   "language": "python",
   "name": "python3"
  },
  "language_info": {
   "codemirror_mode": {
    "name": "ipython",
    "version": 3
   },
   "file_extension": ".py",
   "mimetype": "text/x-python",
   "name": "python",
   "nbconvert_exporter": "python",
   "pygments_lexer": "ipython3",
   "version": "3.9.13"
  }
 },
 "nbformat": 4,
 "nbformat_minor": 5
}
