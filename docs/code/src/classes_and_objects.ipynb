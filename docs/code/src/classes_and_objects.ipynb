{
 "cells": [
  {
   "cell_type": "code",
   "execution_count": 1,
   "id": "0c583d8b-f191-44a2-bcdf-50aac4ae03e3",
   "metadata": {},
   "outputs": [],
   "source": [
    "class Material:\n",
    "    def __init__(self, **keyword_arguments):\n",
    "        allowed_attrs = ['id', 'name', 'category', 'type', 'functional_unit', 'description', 'common_uses', \n",
    "                         'comments', 'embodied_energy', 'embodied_water', 'embodied_carbon', 'weight']        \n",
    "        for argument_name, argument_value in keyword_arguments.items():\n",
    "            if argument_name in allowed_attrs:\n",
    "                setattr(self, argument_name, argument_value) \n",
    "                \n",
    "    def __repr__(self):\n",
    "        return f\"({self.id})Material|{self.name}|{self.category}|{self.type}|{self.functional_unit}\"\n",
    "    \n",
    "    \n",
    "class Element:    \n",
    "    def __init__(self, **keyword_arguments):\n",
    "        allowed_attrs = ['id', 'name', 'category', 'type', 'functional_unit', 'wastage_coefficient', 'materials']\n",
    "        for argument_name, argument_value in keyword_arguments.items():\n",
    "            if argument_name in allowed_attrs:\n",
    "                setattr(self, argument_name, argument_value) \n",
    "        if 'materials' not in keyword_arguments.keys():\n",
    "            self.materials = []\n",
    "        \n",
    "    def add_material(self, material, quantity):\n",
    "        self.materials.append((material, quantity))\n",
    "        \n",
    "    def __repr__(self):\n",
    "        return f\"({self.id})Element|{self.name}|{self.category}|{self.type}|{self.functional_unit}\"\n",
    "    \n",
    "    \"\"\"\n",
    "        TODO: implement the following methods so that they return the right value, computed by aggregating the corresponding values from the materials constituting the Element\n",
    "    \"\"\"        \n",
    "    def weight(self):\n",
    "        pass\n",
    "    \n",
    "    def embodied_water(self):\n",
    "        pass\n",
    "    \n",
    "    def embodied_energy(self):\n",
    "        pass\n",
    "    \n",
    "    def embodied_carbon(self):\n",
    "        pass"
   ]
  },
  {
   "cell_type": "code",
   "execution_count": 2,
   "id": "a29ca1c1-7df7-466a-b19c-fcd50735f117",
   "metadata": {},
   "outputs": [],
   "source": [
    "import pandas as pd\n",
    "df_mats = pd.read_csv(\"../data/materials.csv\", sep=\";\")\n",
    "materials = df_mats.to_dict(orient=\"records\")\n",
    "\n",
    "df_elems = pd.read_csv(\"../data/elements.csv\", sep=\";\")\n",
    "elements = df_elems.to_dict(orient=\"records\")\n",
    "\n",
    "df_matelems = pd.read_csv(\"../data/matelems.csv\", sep=\";\")\n",
    "matelems = df_matelems.to_dict(orient=\"records\")"
   ]
  },
  {
   "cell_type": "code",
   "execution_count": 3,
   "id": "e7506817-6865-4fba-8425-5e3d02045ae8",
   "metadata": {},
   "outputs": [],
   "source": [
    "material_objects = [Material(**material) for material in materials]\n",
    "element_objects = [Element(**element) for element in elements]\n",
    "for matelem in matelems:\n",
    "    element_id = matelem['element']\n",
    "    element = element_objects[element_id - 1]\n",
    "    material_id = matelem['material']\n",
    "    material = material_objects[material_id - 1]\n",
    "    quantity = matelem['quantity']\n",
    "    element.add_material(material, quantity)"
   ]
  },
  {
   "cell_type": "code",
   "execution_count": 5,
   "id": "9acd2ea5-92f8-4ae8-874a-b53e4ef45a8f",
   "metadata": {},
   "outputs": [
    {
     "name": "stdout",
     "output_type": "stream",
     "text": [
      "Result: -4 / 4\n"
     ]
    }
   ],
   "source": [
    "# Automated tests:\n",
    "scores = [0]*4\n",
    "try:\n",
    "    scores[0] = round(element_objects[0].weight(), 1) == 6.6\n",
    "except Exception:\n",
    "    scores[0] = -1\n",
    "\n",
    "try:\n",
    "    scores[1] = round(element_objects[0].embodied_water(), 3) == 55.358\n",
    "except Exception:\n",
    "    scores[1] = -1\n",
    "\n",
    "try:\n",
    "    scores[2] = round(element_objects[0].embodied_energy(), 5) == 0.05636\n",
    "except Exception:\n",
    "    scores[2] = -1\n",
    "    \n",
    "try:\n",
    "    scores[3] = round(element_objects[0].embodied_carbon(), 3)  == 4.681\n",
    "except Exception:\n",
    "    scores[3] = -1\n",
    "    \n",
    "score = sum(scores)\n",
    "print(f\"Result: {score} / 4\")"
   ]
  }
 ],
 "metadata": {
  "kernelspec": {
   "display_name": "Python 3 (ipykernel)",
   "language": "python",
   "name": "python3"
  },
  "language_info": {
   "codemirror_mode": {
    "name": "ipython",
    "version": 3
   },
   "file_extension": ".py",
   "mimetype": "text/x-python",
   "name": "python",
   "nbconvert_exporter": "python",
   "pygments_lexer": "ipython3",
   "version": "3.9.13"
  }
 },
 "nbformat": 4,
 "nbformat_minor": 5
}
