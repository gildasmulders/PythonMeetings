{
 "cells": [
  {
   "cell_type": "markdown",
   "id": "10ae5485-ce7f-4591-ad6f-80a79aed12db",
   "metadata": {},
   "source": [
    "## Lists reminder\n",
    "In Python, a list is a data type that defines a collection of elements. This collection of elements can be of any type, we could have a list of numbers, a list of strings, a list of objects, a list of lists,... "
   ]
  },
  {
   "cell_type": "code",
   "execution_count": 1,
   "id": "6921fb11-4efe-459b-a176-d8afd152f057",
   "metadata": {},
   "outputs": [],
   "source": [
    "empty_list = [] # Empty list\n",
    "numbers = [1, 2, 3]  # List of numbers\n",
    "ways_to_greet = [\"Hello\", \"Hi\", \"Ciao\", \"Bonjour\", \"Zdravo\", \"Salaam\", \"Mirëdita\"] # List of strings"
   ]
  },
  {
   "cell_type": "markdown",
   "id": "5e81faec-f043-4af5-92f8-a305fca45fa9",
   "metadata": {},
   "source": [
    "You can then access items in the list using indexes: each element of the list is linked to an index, starting at 0\n",
    "In a list like [\"value 1\", \"value 2\", \"value 3\"] the first element \"value 1\" is associated to index 0, then index 1 corresponds to \"value 2\" and so on until the end of the list.  "
   ]
  },
  {
   "cell_type": "code",
   "execution_count": 2,
   "id": "876eaec2-378f-4192-989e-e1ef85da76b7",
   "metadata": {},
   "outputs": [
    {
     "name": "stdout",
     "output_type": "stream",
     "text": [
      "2\n",
      "Bonjour\n"
     ]
    }
   ],
   "source": [
    "print(numbers[1]) # accessing item 1 of the 'numbers' list (indexes start at 0 so we're getting the 2nd element of the list)\n",
    "print(ways_to_greet[3]) # accessing and printing the 4th element of the 'ways_to_greet' list"
   ]
  },
  {
   "cell_type": "markdown",
   "id": "d0b49064-9d69-45fb-b9a5-c151e9505a5c",
   "metadata": {},
   "source": [
    "Finally, we can iterate through a list like so:"
   ]
  },
  {
   "cell_type": "code",
   "execution_count": 3,
   "id": "47bfbd0e-f2cf-44e9-8377-4b2cced121f8",
   "metadata": {},
   "outputs": [
    {
     "name": "stdout",
     "output_type": "stream",
     "text": [
      "Printing ways to greet\n",
      "\n",
      "Hello\n",
      "Hi\n",
      "Ciao\n",
      "Bonjour\n",
      "Zdravo\n",
      "Salaam\n",
      "Mirëdita\n",
      "\n",
      "Printing ways to greet using indexes\n",
      "\n",
      "Hello\n",
      "Hi\n",
      "Ciao\n",
      "Bonjour\n",
      "Zdravo\n",
      "Salaam\n",
      "Mirëdita\n"
     ]
    }
   ],
   "source": [
    "print(\"Printing ways to greet\\n\")\n",
    "\n",
    "for greeting in ways_to_greet:\n",
    "    print(greeting) \n",
    "    \n",
    "# OR, using indexes, it could also be written as:\n",
    "\n",
    "print(\"\\nPrinting ways to greet using indexes\\n\")\n",
    "\n",
    "number_of_items_in_list = len(ways_to_greet)  # we get the number of elements in the list \n",
    "list_of_indexes = range(number_of_items_in_list) # range(n) creates a list [0, 1, ..., n-1]\n",
    "for index in list_of_indexes:\n",
    "    greeting = ways_to_greet[index]\n",
    "    print(greeting)"
   ]
  },
  {
   "cell_type": "markdown",
   "id": "b40ecda1-1739-48f5-9678-8b391c4cdc53",
   "metadata": {},
   "source": [
    "There are several functions/methods that you can use with lists, for example, len(my_list) gives you the number of elements of 'my_list', but there are many more, for example:\n",
    "- my_list.append('test') : adds the string element 'test' to the end of 'my_list'\n",
    "- my_list.remove('test') : searches the list for a 'test' element and removes it from the list\n",
    "- my_list.sort() : sorts the list in increasing order of values \n",
    "- ..."
   ]
  },
  {
   "cell_type": "markdown",
   "id": "d79ddcc0-3a3e-4a5d-8ab1-434e2ef6e0af",
   "metadata": {},
   "source": [
    "## Dictionaries reminder\n",
    "A dictionary is another data type which allows us to store key : value pairs, much like a real dictionary, where the key is a word and the value is a definition, the idea is to be able to access items of a collections like a list using something more meaningful than just a number from 0 to the number of elements. \n",
    "\n",
    "\n",
    "Just like lists, the values can be of any data type.\n",
    "The keys, however, will usually be strings. "
   ]
  },
  {
   "cell_type": "code",
   "execution_count": 4,
   "id": "66a49aca-0a9f-48df-b893-c87f9eafd7da",
   "metadata": {},
   "outputs": [
    {
     "name": "stdout",
     "output_type": "stream",
     "text": [
      "['English', 'French', 'Farsi', 'Albanian', 'Serbian']\n"
     ]
    }
   ],
   "source": [
    "empty_dict = {}\n",
    "greeting_by_language = {\"English\": \"Hello\", \"French\": \"Bonjour\", \"Farsi\": \"Salaam\", \"Albanian\": \"Mirëdita\", \"Serbian\": \"Zdravo\"}\n",
    "print(list(greeting_by_language.keys())) #  dict.keys() returns a list of all the keys in the dictionnary"
   ]
  },
  {
   "cell_type": "markdown",
   "id": "12f5690b-2b29-453c-a2f6-70b8693697df",
   "metadata": {},
   "source": [
    "We can then access values of the dictionnary using the keys. "
   ]
  },
  {
   "cell_type": "code",
   "execution_count": 5,
   "id": "20fe6d77-7a1d-4592-ae28-61141f2b7e6f",
   "metadata": {},
   "outputs": [
    {
     "name": "stdout",
     "output_type": "stream",
     "text": [
      "Salaam\n"
     ]
    }
   ],
   "source": [
    "print(greeting_by_language[\"Farsi\"]) "
   ]
  },
  {
   "cell_type": "markdown",
   "id": "085bbbc5-2b5c-4a77-9595-3cd6e10f490a",
   "metadata": {},
   "source": [
    "# Aim\n",
    "The goal of this session is to filter some data about building materials based on certain attributes of the material, like for instance, we want to get a list of materials that belong in the \"Minerals\" category.\n",
    "The data with which we are working is in the form of a list of dictionaries. Each item in the list represents a material, and each material is represented as a dictionary with information describing the material. "
   ]
  },
  {
   "cell_type": "markdown",
   "id": "6f0d331e-ca3a-49ec-905a-df253c64ff37",
   "metadata": {},
   "source": [
    "## Importing data from csv with pandas\n",
    "Before the session, I imported some data from a file and turned it into a list of dictionnaries"
   ]
  },
  {
   "cell_type": "code",
   "execution_count": 6,
   "id": "c0eaa4ff-7cde-49e0-8e6a-1d808a290e18",
   "metadata": {},
   "outputs": [],
   "source": [
    "import pandas as pd"
   ]
  },
  {
   "cell_type": "code",
   "execution_count": 7,
   "id": "5e46e995-c7bd-4407-9554-871e5458682f",
   "metadata": {},
   "outputs": [],
   "source": [
    "df = pd.read_csv(\"../data/materials.csv\", sep=\";\")\n",
    "materials = df.to_dict(orient=\"records\")"
   ]
  },
  {
   "cell_type": "markdown",
   "id": "7a0227d1-ec19-4946-bb15-b7dae000f2b0",
   "metadata": {},
   "source": [
    "We can first check how the data looks"
   ]
  },
  {
   "cell_type": "code",
   "execution_count": 8,
   "id": "9205672d-4a6b-4442-a772-896583f02be0",
   "metadata": {},
   "outputs": [
    {
     "name": "stdout",
     "output_type": "stream",
     "text": [
      "<class 'list'>\n",
      "<class 'dict'>\n",
      "['id', 'name', 'category', 'type', 'functional_unit', 'description', 'common_uses', 'comments', 'embodied_energy', 'embodied_water', 'embodied_carbon', 'weight']\n"
     ]
    }
   ],
   "source": [
    "print(type(materials))\n",
    "print(type(materials[0]))\n",
    "print(list(materials[0].keys())) # Each material is defined by these keys"
   ]
  },
  {
   "cell_type": "markdown",
   "id": "720d5a45-359f-4a16-9841-34ebd81768ee",
   "metadata": {},
   "source": [
    "# First algorithm\n",
    "Let's first simplify the task to figure out how we could get a list of materials that belong to the category 'Minerals'\n",
    "Here is the pseudo-code for what needs to be done:\n",
    "\n",
    "- Initialize a list \n",
    "- loop through list_of_dicts\n",
    "    - check the object's category field\n",
    "    - if the category is \"Minerals\" => add it to new_list"
   ]
  },
  {
   "cell_type": "code",
   "execution_count": 9,
   "id": "7484f08f-7cb0-466d-96bb-631e4f73a89a",
   "metadata": {},
   "outputs": [],
   "source": [
    "minerals_materials = []\n",
    "for material in materials:\n",
    "    if material['category'] == 'Minerals':\n",
    "        minerals_materials.append(material) "
   ]
  },
  {
   "cell_type": "code",
   "execution_count": 10,
   "id": "51c9d268-135b-4158-bd61-d9591f3703ea",
   "metadata": {},
   "outputs": [
    {
     "data": {
      "text/plain": [
       "True"
      ]
     },
     "execution_count": 10,
     "metadata": {},
     "output_type": "execute_result"
    }
   ],
   "source": [
    "# OR, the compact and optimized way:\n",
    "minerals_materials_fast = [material for material in materials if material[\"category\"]==\"Minerals\"]\n",
    "minerals_materials_fast == minerals_materials  # Checking that the two methods lead to the same results"
   ]
  },
  {
   "cell_type": "markdown",
   "id": "d9d8631c-c61c-42e9-ad1b-8c7079e7e1e3",
   "metadata": {},
   "source": [
    "## Generalizing the algorithm\n",
    "Now, filtering based on the category is a pretty common task, and we might sometimes be interested in getting different categories, like 'Timber' instead of 'Minerals' for instance, to do that, we can build a reusable function taking the category to filter as argument"
   ]
  },
  {
   "cell_type": "code",
   "execution_count": 11,
   "id": "64d0d07a-a9bd-4019-bd90-aa8809bfdc83",
   "metadata": {},
   "outputs": [
    {
     "name": "stdout",
     "output_type": "stream",
     "text": [
      "True\n",
      "True\n"
     ]
    }
   ],
   "source": [
    "def filter_category(category_to_filter):\n",
    "    filtered_materials = []\n",
    "    for material in materials:\n",
    "        if material['category'] == category_to_filter:\n",
    "            filtered_materials.append(material) \n",
    "    return filtered_materials\n",
    "\n",
    "# We can then call this function to filter based on any category we want:\n",
    "print(filter_category('Minerals') == [material for material in materials if material[\"category\"]==\"Minerals\"])\n",
    "print(filter_category('Timber')  == [material for material in materials if material[\"category\"]==\"Timber\"])"
   ]
  },
  {
   "cell_type": "markdown",
   "id": "c1779200-2458-45f8-84fd-77f75b67a1ec",
   "metadata": {},
   "source": [
    "## Further generalization\n",
    "We could add parameters to our function in order to filter based on other attributes than the category"
   ]
  },
  {
   "cell_type": "code",
   "execution_count": 12,
   "id": "fcf26ec7-35ef-4157-ad10-b815b80a56e7",
   "metadata": {},
   "outputs": [
    {
     "name": "stdout",
     "output_type": "stream",
     "text": [
      "True\n",
      "True\n"
     ]
    }
   ],
   "source": [
    "def filter_attribute(attribute_to_filter, attribute_value):\n",
    "    filtered_materials = []\n",
    "    for material in materials:\n",
    "        if material[attribute_to_filter] == attribute_value:\n",
    "            filtered_materials.append(material) \n",
    "    return filtered_materials\n",
    "\n",
    "print(filter_attribute('category', 'Minerals') == [material for material in materials if material[\"category\"]==\"Minerals\"])\n",
    "print(filter_attribute('type', 'Glass') == [material for material in materials if material[\"type\"]==\"Glass\"])"
   ]
  },
  {
   "cell_type": "markdown",
   "id": "37b80739-d7e4-4b7b-a143-e1590147d4ef",
   "metadata": {},
   "source": [
    "## Comparing with pandas\n",
    "That's it! Now, using pandas to work with tables of data is much more convenient than relying on Python's built in data types (e.g. lists, dictionaries,..) because it provides these kinds of functions and much more, so we could do the same kind of filtering using the following line on a pandas dataframe"
   ]
  },
  {
   "cell_type": "code",
   "execution_count": 13,
   "id": "cf53348e-96ed-4271-af6c-c18e14dde934",
   "metadata": {},
   "outputs": [
    {
     "data": {
      "text/html": [
       "<div>\n",
       "<style scoped>\n",
       "    .dataframe tbody tr th:only-of-type {\n",
       "        vertical-align: middle;\n",
       "    }\n",
       "\n",
       "    .dataframe tbody tr th {\n",
       "        vertical-align: top;\n",
       "    }\n",
       "\n",
       "    .dataframe thead th {\n",
       "        text-align: right;\n",
       "    }\n",
       "</style>\n",
       "<table border=\"1\" class=\"dataframe\">\n",
       "  <thead>\n",
       "    <tr style=\"text-align: right;\">\n",
       "      <th></th>\n",
       "      <th>id</th>\n",
       "      <th>name</th>\n",
       "      <th>category</th>\n",
       "      <th>type</th>\n",
       "      <th>functional_unit</th>\n",
       "      <th>description</th>\n",
       "      <th>common_uses</th>\n",
       "      <th>comments</th>\n",
       "      <th>embodied_energy</th>\n",
       "      <th>embodied_water</th>\n",
       "      <th>embodied_carbon</th>\n",
       "      <th>weight</th>\n",
       "    </tr>\n",
       "  </thead>\n",
       "  <tbody>\n",
       "    <tr>\n",
       "      <th>0</th>\n",
       "      <td>1</td>\n",
       "      <td>20 MPa concrete mix (30% FA)</td>\n",
       "      <td>Minerals</td>\n",
       "      <td>Concrete</td>\n",
       "      <td>m³</td>\n",
       "      <td>Concrete is a composite material combining san...</td>\n",
       "      <td>Floor slabs. suspended slabs. driveways. preca...</td>\n",
       "      <td>NaN</td>\n",
       "      <td>2.026212</td>\n",
       "      <td>4011.163289</td>\n",
       "      <td>250.834220</td>\n",
       "      <td>2335.0</td>\n",
       "    </tr>\n",
       "    <tr>\n",
       "      <th>1</th>\n",
       "      <td>2</td>\n",
       "      <td>20 MPa concrete mix (30% GGBFS)</td>\n",
       "      <td>Minerals</td>\n",
       "      <td>Concrete</td>\n",
       "      <td>m³</td>\n",
       "      <td>Concrete is a composite material combining san...</td>\n",
       "      <td>Floor slabs. suspended slabs. driveways. preca...</td>\n",
       "      <td>NaN</td>\n",
       "      <td>2.185683</td>\n",
       "      <td>4033.505476</td>\n",
       "      <td>263.429388</td>\n",
       "      <td>2335.0</td>\n",
       "    </tr>\n",
       "    <tr>\n",
       "      <th>2</th>\n",
       "      <td>3</td>\n",
       "      <td>20 MPa concrete mix</td>\n",
       "      <td>Minerals</td>\n",
       "      <td>Concrete</td>\n",
       "      <td>m³</td>\n",
       "      <td>Concrete is a composite material combining san...</td>\n",
       "      <td>Floor slabs. suspended slabs. driveways. preca...</td>\n",
       "      <td>NaN</td>\n",
       "      <td>2.403695</td>\n",
       "      <td>4153.722958</td>\n",
       "      <td>328.381715</td>\n",
       "      <td>2335.0</td>\n",
       "    </tr>\n",
       "    <tr>\n",
       "      <th>3</th>\n",
       "      <td>4</td>\n",
       "      <td>25 MPa concrete mix (30% FA)</td>\n",
       "      <td>Minerals</td>\n",
       "      <td>Concrete</td>\n",
       "      <td>m³</td>\n",
       "      <td>Concrete is a composite material combining san...</td>\n",
       "      <td>Floor slabs. suspended slabs. precast wall panels</td>\n",
       "      <td>NaN</td>\n",
       "      <td>2.241050</td>\n",
       "      <td>4028.347615</td>\n",
       "      <td>277.233297</td>\n",
       "      <td>2409.0</td>\n",
       "    </tr>\n",
       "    <tr>\n",
       "      <th>4</th>\n",
       "      <td>5</td>\n",
       "      <td>25 MPa concrete mix (30% GGBFS)</td>\n",
       "      <td>Minerals</td>\n",
       "      <td>Concrete</td>\n",
       "      <td>m³</td>\n",
       "      <td>Concrete is a composite material combining san...</td>\n",
       "      <td>Floor slabs. suspended slabs. precast wall panels</td>\n",
       "      <td>NaN</td>\n",
       "      <td>2.441117</td>\n",
       "      <td>4104.690027</td>\n",
       "      <td>292.537716</td>\n",
       "      <td>2409.0</td>\n",
       "    </tr>\n",
       "  </tbody>\n",
       "</table>\n",
       "</div>"
      ],
      "text/plain": [
       "   id                             name  category      type functional_unit  \\\n",
       "0   1     20 MPa concrete mix (30% FA)  Minerals  Concrete              m³   \n",
       "1   2  20 MPa concrete mix (30% GGBFS)  Minerals  Concrete              m³   \n",
       "2   3              20 MPa concrete mix  Minerals  Concrete              m³   \n",
       "3   4     25 MPa concrete mix (30% FA)  Minerals  Concrete              m³   \n",
       "4   5  25 MPa concrete mix (30% GGBFS)  Minerals  Concrete              m³   \n",
       "\n",
       "                                         description  \\\n",
       "0  Concrete is a composite material combining san...   \n",
       "1  Concrete is a composite material combining san...   \n",
       "2  Concrete is a composite material combining san...   \n",
       "3  Concrete is a composite material combining san...   \n",
       "4  Concrete is a composite material combining san...   \n",
       "\n",
       "                                         common_uses comments  \\\n",
       "0  Floor slabs. suspended slabs. driveways. preca...      NaN   \n",
       "1  Floor slabs. suspended slabs. driveways. preca...      NaN   \n",
       "2  Floor slabs. suspended slabs. driveways. preca...      NaN   \n",
       "3  Floor slabs. suspended slabs. precast wall panels      NaN   \n",
       "4  Floor slabs. suspended slabs. precast wall panels      NaN   \n",
       "\n",
       "   embodied_energy  embodied_water  embodied_carbon  weight  \n",
       "0         2.026212     4011.163289       250.834220  2335.0  \n",
       "1         2.185683     4033.505476       263.429388  2335.0  \n",
       "2         2.403695     4153.722958       328.381715  2335.0  \n",
       "3         2.241050     4028.347615       277.233297  2409.0  \n",
       "4         2.441117     4104.690027       292.537716  2409.0  "
      ]
     },
     "execution_count": 13,
     "metadata": {},
     "output_type": "execute_result"
    }
   ],
   "source": [
    "filtered_materials = df[df[\"category\"] == \"Minerals\"]\n",
    "filtered_materials.head()"
   ]
  }
 ],
 "metadata": {
  "kernelspec": {
   "display_name": "Python 3 (ipykernel)",
   "language": "python",
   "name": "python3"
  },
  "language_info": {
   "codemirror_mode": {
    "name": "ipython",
    "version": 3
   },
   "file_extension": ".py",
   "mimetype": "text/x-python",
   "name": "python",
   "nbconvert_exporter": "python",
   "pygments_lexer": "ipython3",
   "version": "3.9.13"
  }
 },
 "nbformat": 4,
 "nbformat_minor": 5
}
