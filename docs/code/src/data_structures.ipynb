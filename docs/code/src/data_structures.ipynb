{
 "cells": [
  {
   "cell_type": "markdown",
   "id": "0084900b-f1ea-4fe0-a1d9-0efdace512c6",
   "metadata": {},
   "source": [
    "## Data structures\n",
    "Depending on the task we need to do, a different data structure is optimal for the job,.. they all have pros and cons and fit particular situations better than others\n",
    "We saw:\n",
    "- Lists, the basic one, simply holds an ordered collection of stuff\n",
    "- Sets, holds an unordered collection of unique items\n",
    "- Dictionaries, match keys (usually words or text) with items.\n",
    "\n",
    "Each comes with a set of handy functionalities, methods and functions that you can apply on them,.."
   ]
  },
  {
   "cell_type": "markdown",
   "id": "65fb3618-5001-4762-8e89-1361535eca2b",
   "metadata": {},
   "source": [
    "In Python, all these data structures are actually Classes. And we can define new classes to have new data structures that provide us with very specific features/methods,\n",
    "useful for working in our particular use cases. "
   ]
  },
  {
   "cell_type": "code",
   "execution_count": 1,
   "id": "e5486f7a-263c-4e37-905b-043286855692",
   "metadata": {},
   "outputs": [
    {
     "data": {
      "text/plain": [
       "'[1, 2, 3]'"
      ]
     },
     "execution_count": 1,
     "metadata": {},
     "output_type": "execute_result"
    }
   ],
   "source": [
    "l1 = list([1, 2])  # When we create a new list, we actually create an instance of a class => we create a 'list' object.\n",
    "l1.append(3)  # We can then call instance methods on that objects, like 'append()' or '__str__()'\n",
    "l1.__str__()  "
   ]
  },
  {
   "cell_type": "code",
   "execution_count": 2,
   "id": "92fb60e2-121f-4a23-b28e-ee0af2a25a35",
   "metadata": {},
   "outputs": [
    {
     "data": {
      "text/plain": [
       "[1, 2, 3]"
      ]
     },
     "execution_count": 2,
     "metadata": {},
     "output_type": "execute_result"
    }
   ],
   "source": [
    "# Reimplementation of the 'list' class\n",
    "class MyList:\n",
    "    #  All 'instance methods', i.e. functions that will be specific to each object's state, must be defined with 'self' as the first argument, which is the way to refer to the object's state\n",
    "    #  The __init__ method is a special method (magic method), that is called implicitely when we create a new object/instance of the class. \n",
    "    def __init__(self, initial_list=None):\n",
    "        if initial_list == None:\n",
    "            self.inner_list = []\n",
    "        else:\n",
    "            self.inner_list = initial_list\n",
    "    \n",
    "    def append(self, number):\n",
    "        self.inner_list.append(number)\n",
    "        \n",
    "    def __str__(self):\n",
    "        return self.inner_list\n",
    "    \n",
    "l2 = MyList([1, 2])\n",
    "l2.append(3)\n",
    "l2.__str__()\n",
    "l2.inner_list"
   ]
  },
  {
   "cell_type": "markdown",
   "id": "6d93ec8c-dade-4d28-bb1a-47689605dac4",
   "metadata": {},
   "source": [
    "### Vocabulary\n",
    "ex: \n",
    "```\n",
    "dict_1 = {\"hey\": \"hoo\"} \n",
    "dict_2 = {\"mykey\": 56}\n",
    "```\n",
    "dict_1 and dict_2 are both **instances** of the **Dictionary class**, they're both objects. The **Dictionary class** simply defines that all dictionaries are made of keys (like \"hey\" in dict_1 and \"mykey\" in dict_2) and values (\"hoo\", 56,..). Then, the **dictionary instances** dict_1 and dict_2 have different keys and values.\n",
    "\n",
    "- Object: an instance of a class\n",
    "- Class: a mould or factory, this is the abstract, parametric definition of what our objects should look like, for instance in Dictionaries, the class enforces that all dictionaries are represented by keys and values. Classes consist in a set of attributes, that will later hold the 'state' of the objects, and a set of methods, allowing users to interact with the object's state.\n",
    "- state: the state of an object is the set of values of its attributes. (see example below)\n",
    "- attributes: variables that are defined on an object. The class defines the names of these variables and then different values are set by each new instance of the class. \n",
    "- method: a python function, defined inside the definition of a class and enabling to output/modify/set,.. the state of the class's objects when called. The methods of a class define how you should interact with objects of that class. For instance, the List class defines that you should use the append() method to add items to the end of the list. \n",
    "- magic methods: a bunch of methods called implicitly by Python in common contexts. Magic methods always start and end with \\_\\_: like \\_\\_init\\_\\_, \\_\\_add\\_\\_, \\_\\_repr\\_\\_... \n",
    "    For instance, in Python, since everything is an object, when we write ```3 + 4```, this is what happens: ```int(3).__add__(int(4))``` -> \n",
    "    1. We create an instance of the 'int' class with value 3 \n",
    "    2. We create an instance of the 'int' class with value 4\n",
    "    3. We call the magic \\_\\_add\\_\\_ method on the first int object with the second int object as argument.\n",
    "- constructor (\\_\\_init\\_\\_() ) : a magic method called automatically whenever we create a new object of a class -> it is used to initialise the object, by setting some values to its attributes."
   ]
  },
  {
   "cell_type": "code",
   "execution_count": 3,
   "id": "d5d78b7c-041d-4ed7-b3b6-810b94085bba",
   "metadata": {},
   "outputs": [
    {
     "name": "stdout",
     "output_type": "stream",
     "text": [
      "You just created a new water object!\n",
      "The state of my water is liquid\n",
      "heating...\n",
      "The state of my water is now gas\n",
      "cooling...\n",
      "The state of my water is now liquid\n",
      "cooling...\n",
      "The state of my water is now solid\n"
     ]
    }
   ],
   "source": [
    "#  Example illustrating the notion of state, here the state of any Water object is simply defined by the 'state' attribute, \n",
    "#  programming languages extend that notion of 'state' to be all the variables that describe how a particular element is right now.\n",
    "\n",
    "#  So in programming language vocabulary: The state of a Water object is defined by one attribute/property called 'state'.\n",
    "\n",
    "\n",
    "class Water:\n",
    "    def __init__(self):\n",
    "        print(\"You just created a new water object!\")\n",
    "        self.state = \"liquid\"\n",
    "    \n",
    "    def heat(self):\n",
    "        print(\"heating...\")\n",
    "        if self.state == \"solid\":\n",
    "            self.state = \"liquid\"\n",
    "        else:\n",
    "            self.state = \"gas\"\n",
    "    \n",
    "    def cool(self):\n",
    "        print(\"cooling...\")\n",
    "        if self.state == \"gas\":\n",
    "            self.state = \"liquid\"\n",
    "        else:\n",
    "            self.state = \"solid\"      \n",
    "            \n",
    "my_water = Water() #  We create a new instance of the class 'Water', this line of code calls the constructor '__init__' method of the Water class, which initializes the state of water to 'liquid'\n",
    "print(\"The state of my water is \" + my_water.state)  #  We can access the attribute of the water object to check which state the water is in.\n",
    "my_water.heat()  #  We can call a method on our water instance to modify its state.\n",
    "print(\"The state of my water is now \" + my_water.state)\n",
    "my_water.cool() \n",
    "print(\"The state of my water is now \" + my_water.state)\n",
    "my_water.cool() \n",
    "print(\"The state of my water is now \" + my_water.state)"
   ]
  },
  {
   "cell_type": "markdown",
   "id": "f5bb359a-f61b-4b5a-a749-17f69b05a861",
   "metadata": {},
   "source": [
    "## The Mould metaphor\n",
    "Conceptually, classes are like moulds, they just define a 'shape' of how the cake should look, and then cakes made out of that mould are objects/instances. \n",
    "\n",
    "The conceptual shape of the cake, defined by the class, is a parametrized definition of a concept: the class defines that a cake is represented by a list of ingredients and a quantity of sugar without injecting any values in these attributes yet. Then, using this definition, we can describe/represent many different cakes as objects of the class by associating values with these attributes. "
   ]
  },
  {
   "cell_type": "code",
   "execution_count": 4,
   "id": "be793734-c079-47c1-9cbf-cf5a551ca1da",
   "metadata": {},
   "outputs": [
    {
     "name": "stdout",
     "output_type": "stream",
     "text": [
      "['flour', 'sugar']\n",
      "['strawberries', 'chocolate', 'eggs', 'sugar']\n",
      "<__main__.CakeMould object at 0x000001FA1C79CFA0>\n"
     ]
    }
   ],
   "source": [
    "class CakeMould:       \n",
    "    def __init__(self, ingredients, sugar_quantity):\n",
    "        self.ingredients = ingredients\n",
    "        self.sugar = sugar_quantity\n",
    "        \n",
    "    def get_sugar_weight(self):\n",
    "        return f\"This cake has {self.sugar} g of sugar\"\n",
    "\n",
    "my_first_cake = CakeMould([\"flour\", \"sugar\"], 300)\n",
    "my_second_cake = CakeMould([\"strawberries\", \"chocolate\", \"eggs\", \"sugar\"], 0)\n",
    "print(my_first_cake.ingredients)\n",
    "print(my_second_cake.ingredients)\n",
    "\n",
    "dir(CakeMould)\n",
    "print(my_second_cake)"
   ]
  },
  {
   "cell_type": "code",
   "execution_count": 5,
   "id": "fa5ca9d9-b328-408b-a001-ab8e2f4cddf7",
   "metadata": {},
   "outputs": [
    {
     "name": "stdout",
     "output_type": "stream",
     "text": [
      "['eggs', 'flour', 'sugar']\n"
     ]
    }
   ],
   "source": [
    "#  Example showing inheritance: FlourAndSugarBasedCakeMould inherits from CakeMould (it has the same attributes and methods) and overrides the __init__ method\n",
    "class FlourAndSugarBasedCakeMould(CakeMould):\n",
    "    def __init__(self, ingredients, sugar_quantity):\n",
    "        super().__init__(ingredients, sugar_quantity)  #  Here, we call the parent class' __init__ method, that is: we first initialize the object as we did for the previous class\n",
    "        self.ingredients.append(\"flour\")  #  Then, we do extra stuff that we didn't do in the CakeMould class. \n",
    "        self.ingredients.append(\"sugar\")\n",
    "\n",
    "my_first_flour_and_sugar_based_cake = FlourAndSugarBasedCakeMould([\"eggs\"], 300)\n",
    "print(my_first_flour_and_sugar_based_cake.ingredients)"
   ]
  },
  {
   "cell_type": "markdown",
   "id": "817bd19a-142f-4772-ab42-4eec6d78e141",
   "metadata": {},
   "source": [
    "So inheritance is a very powerful tool that allows us to reuse a lot of code and avoid duplicating lines of code. "
   ]
  },
  {
   "cell_type": "markdown",
   "id": "ac3ba369-0fbb-4ad1-8679-34ce5c69de6c",
   "metadata": {},
   "source": [
    "## Exercise: define the Material class\n",
    "\n",
    "So far, we represented Materials as dictionaries, like:\n",
    "```\n",
    "{'id': 1,\n",
    " 'name': '20 MPa concrete mix (30% FA)',\n",
    " 'category': 'Minerals',\n",
    " 'type': 'Concrete',\n",
    " 'functional_unit': 'm³',\n",
    " 'description': 'Concrete is a composite material combining sand or other fine aggregates. coarse aggregates. a binder and water. Portland cement is the most commonly used binder. however other binders. such as polymers. may also be used. Supplementary Cementitious Materials (SCM) such as Fly Ash and Ground. Granulated Blast Furnace Slag (GGBFS). are also commonly used as a part replacement for Portland cement. Additives. such as...',\n",
    " 'common_uses': 'Floor slabs. suspended slabs. driveways. precast wall panels',\n",
    " 'comments': nan,\n",
    " 'embodied_energy': 2.026212111640545,\n",
    " 'embodied_water': 4011.163289376414,\n",
    " 'embodied_carbon': 250.8342200202523,\n",
    " 'weight': 2335.0}\n",
    "```\n",
    "This is very permissive, because it allows to add any key, like a key called 'Arta' to the dictionary describing a Material, which doesn't make much sense. \n",
    "It also allows defining a material without providing a name,... since all the Dictionary class enforces is just that we have keys and values.\n",
    "In this case, it could be useful to find a more systematic way to represent Materials, by creating a class whose objects will represent materials. \n",
    "That way, we can enforce that all Materials are described exactly by these attributes:\n",
    "```\n",
    "['id', 'name', 'category', 'type', 'functional_unit', 'description', 'common_uses', 'comments', 'embodied_energy', 'embodied_water', 'embodied_carbon', 'weight']\n",
    "```\n",
    "We could then define a first method on Materials that combines some of these attributes to create a unique identifier for materials. "
   ]
  },
  {
   "cell_type": "code",
   "execution_count": 6,
   "id": "f155b1d9-596c-49e8-b178-0405732e399a",
   "metadata": {},
   "outputs": [],
   "source": [
    "# SOLUTION\n",
    "class Material:\n",
    "    def __init__(self, id, name, category, type, functional_unit, description, common_uses, comments, embodied_energy, embodied_water, embodied_carbon, weight):\n",
    "        self.id = id\n",
    "        self.name = name\n",
    "        self.category = category\n",
    "        self.type = type\n",
    "        self.functional_unit = functional_unit\n",
    "        self.description = description\n",
    "        self.common_uses = common_uses\n",
    "        self.comments = comments\n",
    "        self.embodied_energy = embodied_energy\n",
    "        self.embodied_water = embodied_water\n",
    "        self.embodied_carbon = embodied_carbon\n",
    "        self.weight = weight            \n",
    "    \n",
    "    def __repr__(self):\n",
    "        #  The __repr__ method is called implicetly when we do 'print(object)', so it should return a way to represent the object based on its attributes' values\n",
    "        return f\"({self.id})Material|{self.name}|{self.category}|{self.type}|{self.functional_unit}\"    "
   ]
  },
  {
   "cell_type": "markdown",
   "id": "2761ac95-39d1-4301-a3c7-13fd6b65acd2",
   "metadata": {},
   "source": [
    "### Useful helpers when the number of function arguments gets intense\n",
    "#### Variable number of arguments\n",
    "When we have as many arguments as the \\_\\_init\\_\\_ function above, it can get hard to keep track of all of them, \n",
    "so python function can be defined to accept a variable number of arguments, using the \\* notation."
   ]
  },
  {
   "cell_type": "code",
   "execution_count": 7,
   "id": "fca7726d-4eb5-458b-89b3-9f938cc5a69b",
   "metadata": {},
   "outputs": [
    {
     "name": "stdout",
     "output_type": "stream",
     "text": [
      "0\n",
      "1\n",
      "3\n"
     ]
    }
   ],
   "source": [
    "def function_with_random_number_of_arguments(*arguments):\n",
    "    #  Inside the body of the function 'arguments' is then considered as a list. \n",
    "    print(len(arguments))\n",
    "    \n",
    "function_with_random_number_of_arguments()  # calling the function without any arguments\n",
    "function_with_random_number_of_arguments(0)  #  calling the function with 1 argument, which is the number 0\n",
    "function_with_random_number_of_arguments(\"hey\", 34, [1, 2, 3]) # calling the function with 3 arguments, namely a string, a number, and a list. "
   ]
  },
  {
   "cell_type": "markdown",
   "id": "ca2b0e73-fed8-4ad5-ba8d-6b1e396c87a7",
   "metadata": {},
   "source": [
    "the \\* notation also has another meaning when used in the function call, it can destructure a list, that is, if I call ```my_function(*my_list)``` , all the items of my_list will be extracted and fed to my_function as arguments."
   ]
  },
  {
   "cell_type": "code",
   "execution_count": 8,
   "id": "67ce138f-db75-4c05-9a6b-c391a136d5df",
   "metadata": {},
   "outputs": [
    {
     "name": "stdout",
     "output_type": "stream",
     "text": [
      "3\n"
     ]
    }
   ],
   "source": [
    "my_arguments = [\"hey\", 34, [1, 2, 3]]  # we put our arguments in a list\n",
    "function_with_random_number_of_arguments(*my_arguments) # we destructure the list to feed its items as arguments \n",
    "#  so here, we have 3 arguments, this is equivalent to the last line of the last code cell"
   ]
  },
  {
   "cell_type": "markdown",
   "id": "de66d868-cfd0-46f0-a128-5a2972241acc",
   "metadata": {},
   "source": [
    "#### Named arguments\n",
    "By default, when we call a function, the order in which we specify values for arguments is important, because that is how the mapping is done in the body of the function:\n",
    "for instance:\n",
    "```\n",
    "def minus(value1, value2):\n",
    "    return value1 - value2\n",
    "```\n",
    "calling ```minus(3, 4)``` or ```minus(4, 3)``` is very different! In the first case, we map the value '3' with the variable called 'value1' and the value '4' with the variable called 'value2' and in the second case it's the opposite. Although this might seem okay for such a small example where we have 2 arguments, it can be harder to keep track of the expected order of arguments when we have more of them.\n",
    "To clarify this, a Python function can be called while explicitely naming each argument, like:\n",
    "```minus(value1=3, value2=4)```"
   ]
  },
  {
   "cell_type": "code",
   "execution_count": 9,
   "id": "ce5f56a9-ef3a-4cb2-a1dd-2da9c9346cfc",
   "metadata": {},
   "outputs": [
    {
     "name": "stdout",
     "output_type": "stream",
     "text": [
      "-1\n",
      "1\n",
      "-1\n"
     ]
    }
   ],
   "source": [
    "def minus(value1, value2):\n",
    "    return value1 - value2\n",
    "\n",
    "print(minus(3, 4))\n",
    "print(minus(4, 3))\n",
    "print(minus(value1=3, value2=4)) #  Less ambiguity"
   ]
  },
  {
   "cell_type": "markdown",
   "id": "0d0aa8df-fadb-4091-906d-4009c65e19c5",
   "metadata": {},
   "source": [
    "### Putting it all together:variable number of named arguments\n",
    "combining the idea of named arguments and variable number of arguments, we can write a function that accepts a variable number of named arguments with the double \\*\\* notation:"
   ]
  },
  {
   "cell_type": "code",
   "execution_count": 10,
   "id": "7bbe4add-7c83-4d46-9d7d-43d3eea227a9",
   "metadata": {},
   "outputs": [
    {
     "name": "stdout",
     "output_type": "stream",
     "text": [
      "{'first': 'hey', 'second': 34, 'random_name': [1, 2, 3]}\n"
     ]
    }
   ],
   "source": [
    "def function_with_random_number_of_named_arguments(**named_arguments):\n",
    "    #  Inside the body of the function 'named_arguments' is then considered as a dict. \n",
    "    print(named_arguments)\n",
    "    \n",
    "function_with_random_number_of_named_arguments(first=\"hey\", second=34, random_name=[1, 2, 3]) "
   ]
  },
  {
   "cell_type": "markdown",
   "id": "51adfe67-ecc0-4328-a3e5-86c1d3b39cb5",
   "metadata": {},
   "source": [
    "Similarly to the variable number of arguments \\* notation, we can also use the \\*\\* notation when calling a function to feed named argument to a function from a dictionary:"
   ]
  },
  {
   "cell_type": "code",
   "execution_count": 11,
   "id": "2ae0bbc2-be17-4ee3-9c27-d05b6c1e0c57",
   "metadata": {},
   "outputs": [
    {
     "name": "stdout",
     "output_type": "stream",
     "text": [
      "{'first': 'hey', 'second': 34, 'random_name': [1, 2, 3]}\n"
     ]
    }
   ],
   "source": [
    "my_named_arguments = {\"first\":\"hey\", \"second\":34, \"random_name\":[1, 2, 3]}\n",
    "function_with_random_number_of_named_arguments(**my_named_arguments)"
   ]
  },
  {
   "cell_type": "markdown",
   "id": "4b4b7638-d0fa-4ece-8cc9-d98362f7f8a8",
   "metadata": {},
   "source": [
    "Using all these tricks, we could rewrite the Material class in a simpler way:"
   ]
  },
  {
   "cell_type": "code",
   "execution_count": 12,
   "id": "0a4b4792-7a91-49b9-8004-18b8b62bd47d",
   "metadata": {},
   "outputs": [],
   "source": [
    "class Material:\n",
    "    def __init__(self, **keyword_arguments):\n",
    "        for argument_name, argument_value in keyword_arguments.items():\n",
    "            setattr(self, argument_name, argument_value) # setattr takes 3 parameters: an object, an attribute name and an attribute value and runs: object.<attribute name> = <attribute value>\n",
    "    \n",
    "    def __repr__(self):\n",
    "        return f\"({self.id})Material|{self.name}|{self.category}|{self.type}|{self.functional_unit}\"   "
   ]
  },
  {
   "cell_type": "markdown",
   "id": "290a1545-79d8-42a9-bd07-d25a207106de",
   "metadata": {},
   "source": [
    "But now we went full circle, because we're just allowing people to define Materials with any named arguments we pass it, so to enforce that the attribute names are authorized, we could add:"
   ]
  },
  {
   "cell_type": "code",
   "execution_count": 13,
   "id": "72dd8b6e-069a-4aec-8dee-aee426274b21",
   "metadata": {},
   "outputs": [],
   "source": [
    "class Material:\n",
    "    def __init__(self, **keyword_arguments):\n",
    "        allowed_attrs = ['id', 'name', 'category', 'type', 'functional_unit', 'description', 'common_uses', \n",
    "                         'comments', 'embodied_energy', 'embodied_water', 'embodied_carbon', 'weight']        \n",
    "        for argument_name, argument_value in keyword_arguments.items():\n",
    "            if argument_name in allowed_attrs:\n",
    "                setattr(self, argument_name, argument_value) \n",
    "                \n",
    "    def __repr__(self):\n",
    "        return f\"({self.id})Material|{self.name}|{self.category}|{self.type}|{self.functional_unit}\"   "
   ]
  },
  {
   "cell_type": "code",
   "execution_count": 14,
   "id": "3b0b9ff7-bd11-484b-a0fb-dae43aab0a58",
   "metadata": {},
   "outputs": [
    {
     "name": "stdout",
     "output_type": "stream",
     "text": [
      "Cement mortar\n"
     ]
    },
    {
     "data": {
      "text/plain": [
       "[(1)Material|20 MPa concrete mix (30% FA)|Minerals|Concrete|m³,\n",
       " (2)Material|20 MPa concrete mix (30% GGBFS)|Minerals|Concrete|m³,\n",
       " (3)Material|20 MPa concrete mix|Minerals|Concrete|m³,\n",
       " (4)Material|25 MPa concrete mix (30% FA)|Minerals|Concrete|m³,\n",
       " (5)Material|25 MPa concrete mix (30% GGBFS)|Minerals|Concrete|m³]"
      ]
     },
     "execution_count": 14,
     "metadata": {},
     "output_type": "execute_result"
    }
   ],
   "source": [
    "#  We can also use the ** notation to easily convert our list of material dictionaries into a list of Material objects, like so:\n",
    "\n",
    "## READING THE DATA\n",
    "import pandas as pd\n",
    "df_mats = pd.read_csv(\"../data/materials.csv\", sep=\";\")\n",
    "materials = df_mats.to_dict(orient=\"records\")\n",
    "\n",
    "material_objects = []\n",
    "for material in materials:\n",
    "    material_object = Material(**material) #  we destructure the material dictionary and pass its content as arguments to the Material class constructor\n",
    "    material_objects.append(material_object)\n",
    "\n",
    "print(material_objects[34].name) #  We can access attributes of any of the objects\n",
    "material_objects[:5]  # Or just output the whole list, where each Material object will be represented using our very own __repr__ method! "
   ]
  },
  {
   "cell_type": "markdown",
   "id": "857d0251-064c-4bab-bcbc-d26418a3248e",
   "metadata": {},
   "source": [
    "### Writing conventions:\n",
    "Although you are free to name your functions, variables, methods and classes however you like, there are a couple of good practices/conventions that are usually respected. \n",
    "These writing conventions sometimes differ from one programming language to another, but here are the common rules for Python:\n",
    "- class names should be written in PascalCase, with the first letter in caps, all words attached and each first letter of each word in caps\n",
    "- variables, functions, methods should be written in snake_case, without any caps, and with words separated by _"
   ]
  }
 ],
 "metadata": {
  "kernelspec": {
   "display_name": "Python 3 (ipykernel)",
   "language": "python",
   "name": "python3"
  },
  "language_info": {
   "codemirror_mode": {
    "name": "ipython",
    "version": 3
   },
   "file_extension": ".py",
   "mimetype": "text/x-python",
   "name": "python",
   "nbconvert_exporter": "python",
   "pygments_lexer": "ipython3",
   "version": "3.9.13"
  }
 },
 "nbformat": 4,
 "nbformat_minor": 5
}
