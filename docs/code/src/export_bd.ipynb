{
 "cells": [
  {
   "cell_type": "code",
   "execution_count": 1,
   "id": "97b02df0-557c-4b74-8d11-01931b09fb74",
   "metadata": {},
   "outputs": [],
   "source": [
    "import pandas as pd"
   ]
  },
  {
   "cell_type": "code",
   "execution_count": 2,
   "id": "252465b0-f1b9-4cf7-940d-d1a1ba331243",
   "metadata": {},
   "outputs": [],
   "source": [
    "mats = pd.read_csv(\"../data/materials.csv\", sep=\";\")\n",
    "elems = pd.read_csv(\"../data/elements.csv\", sep=\";\")\n",
    "matelems = pd.read_csv(\"../data/matelems.csv\", sep=\";\")"
   ]
  },
  {
   "cell_type": "code",
   "execution_count": 3,
   "id": "bf1b572b-0031-4e83-8cbe-8ff1ba61b2f8",
   "metadata": {},
   "outputs": [],
   "source": [
    "mats = mats.rename(columns={col: f\"material_{col}\" for col in mats.columns})\n",
    "elems = elems.rename(columns={col: f\"element_{col}\" for col in elems.columns})\n",
    "matelems = matelems.rename(columns= {\"material\": \"material_id\", \"element\": \"element_id\"})"
   ]
  },
  {
   "cell_type": "code",
   "execution_count": 4,
   "id": "3e46b06f-3afe-40a2-925a-d74b12e8df9c",
   "metadata": {},
   "outputs": [],
   "source": [
    "full = elems.merge(mats.merge(matelems, how=\"right\", on=\"material_id\"), how=\"right\", on=\"element_id\")"
   ]
  },
  {
   "cell_type": "code",
   "execution_count": 5,
   "id": "52b65aff-c4af-4071-a16d-40ca86a4ef46",
   "metadata": {},
   "outputs": [],
   "source": [
    "full.to_csv(\"../data/elements_with_bd.csv\", sep=\";\", index=False)"
   ]
  }
 ],
 "metadata": {
  "kernelspec": {
   "display_name": "Python 3 (ipykernel)",
   "language": "python",
   "name": "python3"
  },
  "language_info": {
   "codemirror_mode": {
    "name": "ipython",
    "version": 3
   },
   "file_extension": ".py",
   "mimetype": "text/x-python",
   "name": "python",
   "nbconvert_exporter": "python",
   "pygments_lexer": "ipython3",
   "version": "3.9.13"
  }
 },
 "nbformat": 4,
 "nbformat_minor": 5
}
