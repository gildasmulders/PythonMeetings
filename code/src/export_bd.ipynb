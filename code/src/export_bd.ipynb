{
 "cells": [
  {
   "cell_type": "code",
   "execution_count": 1,
   "id": "97b02df0-557c-4b74-8d11-01931b09fb74",
   "metadata": {},
   "outputs": [],
   "source": [
    "import pandas as pd"
   ]
  },
  {
   "cell_type": "code",
   "execution_count": 2,
   "id": "252465b0-f1b9-4cf7-940d-d1a1ba331243",
   "metadata": {},
   "outputs": [],
   "source": [
    "mats = pd.read_csv(\"../data/materials.csv\", sep=\";\")\n",
    "elems = pd.read_csv(\"../data/elements.csv\", sep=\";\")\n",
    "matelems = pd.read_csv(\"../data/matelems.csv\", sep=\";\")"
   ]
  },
  {
   "cell_type": "code",
   "execution_count": 3,
   "id": "bf1b572b-0031-4e83-8cbe-8ff1ba61b2f8",
   "metadata": {},
   "outputs": [],
   "source": [
    "mats = mats.rename(columns={col: f\"material_{col}\" for col in mats.columns})\n",
    "elems = elems.rename(columns={col: f\"element_{col}\" for col in elems.columns})\n",
    "matelems = matelems.rename(columns= {\"material\": \"material_id\", \"element\": \"element_id\"})"
   ]
  },
  {
   "cell_type": "code",
   "execution_count": 5,
   "id": "67c7581a-48fa-41fe-a0c6-755e1f1a355c",
   "metadata": {},
   "outputs": [],
   "source": [
    "matelems = matelems.merge(elems, how=\"left\", on=\"element_id\")\n",
    "full = matelems.merge(mats, how=\"left\", on=\"material_id\")\n",
    "full.to_csv(\"elements_with_bd.csv\", sep=\";\", index=False)"
   ]
  },
  {
   "cell_type": "code",
   "execution_count": null,
   "id": "05634abe-2142-4dd1-bb59-973082ab4e87",
   "metadata": {},
   "outputs": [],
   "source": []
  }
 ],
 "metadata": {
  "kernelspec": {
   "display_name": "Python 3 (ipykernel)",
   "language": "python",
   "name": "python3"
  },
  "language_info": {
   "codemirror_mode": {
    "name": "ipython",
    "version": 3
   },
   "file_extension": ".py",
   "mimetype": "text/x-python",
   "name": "python",
   "nbconvert_exporter": "python",
   "pygments_lexer": "ipython3",
   "version": "3.9.13"
  }
 },
 "nbformat": 4,
 "nbformat_minor": 5
}
